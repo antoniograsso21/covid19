{
 "cells": [
  {
   "cell_type": "code",
   "execution_count": null,
   "metadata": {},
   "outputs": [],
   "source": [
    "import sys\n",
    "import datetime\n",
    "import pandas as pd\n",
    "\n",
    "sys.path.append('../../')\n",
    "from src.util.functions import Functions\n",
    "from src.visualize.visualizer import BarPlot\n",
    "# Disable warning\n",
    "pd.options.mode.chained_assignment = None \n",
    "\n",
    "level = 'regioni'\n",
    "region_name = \"trentino-alto adige\"\n",
    "\n",
    "path_data = '../../data'\n",
    "path_img_root =  '{path_data}/imgs/grafici/{level}/{region}'.format(path_data=path_data, level=level, region=region_name)\n",
    "path_csv = '{path_data}/csv'.format(path_data=path_data)\n",
    "csv_in_name = '{path_csv}/{level}/covid19-{region_name}.csv'.format(path_csv=path_csv, level=level, region_name=region_name)"
   ]
  },
  {
   "cell_type": "code",
   "execution_count": null,
   "metadata": {},
   "outputs": [],
   "source": [
    "df_raw = pd.read_csv(csv_in_name)\n",
    "df_raw"
   ]
  },
  {
   "cell_type": "code",
   "execution_count": null,
   "metadata": {},
   "outputs": [],
   "source": [
    "last_date = datetime.datetime.fromisoformat(df_raw.tail(1).data.array[0])\n",
    "last_date"
   ]
  },
  {
   "cell_type": "code",
   "execution_count": null,
   "metadata": {},
   "outputs": [],
   "source": [
    "# Print stats\n",
    "# df_n[-2:].iloc[:, 1:]\n",
    "df_last = df_raw[-1:]\n",
    "print('Nuovi positivi:', df_last['nuovi_positivi'].item())\n",
    "print('Nuovi tamponi:', df_last['nuovi_tamponi'].item())\n",
    "print('Percentuale nuovi positivi/nuovi tamponi:', round(df_last['nuovi_positivi'].item()/df_last['nuovi_tamponi'].item(), 3) * 100, '%')\n",
    "print('Nuovi guariti:', df_last['nuovi_dimessi_guariti'].item())\n",
    "print('Nuovi deceduti:', df_last['nuovi_deceduti'].item())\n",
    "print('Variazione positivi ricoverati con sintomi:', df_last['variazione_ricoverati_con_sintomi'].item())\n",
    "print('Variazione positivi in terapia intensiva:', df_last['variazione_terapia_intensiva'].item())\n",
    "print('Variazione positivi in isolamento dimiciliare:', df_last['variazione_isolamento_domiciliare'].item())"
   ]
  },
  {
   "cell_type": "code",
   "execution_count": null,
   "metadata": {},
   "outputs": [],
   "source": [
    "last_date = datetime.datetime.fromisoformat(df_raw.tail(1).data.array[0])\n",
    "last_date"
   ]
  },
  {
   "cell_type": "code",
   "execution_count": null,
   "metadata": {},
   "outputs": [],
   "source": [
    "# TODO: define function\n",
    "days = 60\n",
    "path_img = '{path_img_root}/{days}gg'.format(path_img_root=path_img_root, days=days)\n",
    "date_threshold = Functions.get_prev_days_date(last_date, days).toordinal()\n",
    "date_threshold_str = datetime.datetime.fromordinal(date_threshold).isoformat()\n",
    "date_threshold_str\n",
    "df = df_raw[df_raw.data > date_threshold_str].reset_index(drop=True)\n",
    "df"
   ]
  },
  {
   "cell_type": "code",
   "execution_count": null,
   "metadata": {},
   "outputs": [],
   "source": [
    "# Define figures properties\n",
    "graph_prop = {'path_root': path_img,\n",
    "              'label_font': 14,\n",
    "              'data': {'label': 'Data', 'ticks': lambda x: x.split('T')[0]},\n",
    "              'nuovi_positivi': {'label': 'Nuovi positivi', 'file_name': 'nuovi_positivi'},\n",
    "              'np_su_nt': {'label': 'Nuovi positivi / Nuovi tamponi (%)', 'file_name': 'nuovi_positivi_su_nuovi_tamponi'},\n",
    "              'np_su_nct': {'label': 'Nuovi positivi / Nuovi casi testati (%)', 'file_name': 'nuovi_positivi_su_nuovi_casi_testati'},\n",
    "              'totale_positivi': {'label': 'Totale positivi', 'file_name': 'totale_positivi'},\n",
    "              'var_pos_perc': {'label': 'Variazione totale positivi (%)', 'file_name': 'variazione_totale_positivi_perc'},\n",
    "              'terapia_intensiva': {'label': 'Terapia intensiva', 'file_name': 'terapia_intensiva'},\n",
    "              'var_ti_perc': {'label': 'Variazione terapia intensiva (%)', 'file_name': 'variazione_terapia_intensiva_perc'},\n",
    "              'ti_su_to': {'label': 'Terapia intensiva / Totale ospedalizzati (%)', 'file_name': 'terapia_intensiva_su_totale_ospedalizzati'},\n",
    "              'saturazione_terapia_intensiva': {'label': 'Saturazione terapia intensiva (%)', 'file_name': 'saturazione_terapia_intensiva'},\n",
    "              'totale_ospedalizzati': {'label': 'Totale ospedalizzati', 'file_name': 'totale_ospedalizzati'},\n",
    "              'to_su_tp': {'label': 'Totale ospedalizzati / Totale positivi (%)', 'file_name': 'totale_ospedalizzati_su_totale_positivi'},\n",
    "              'nuovi_deceduti': {'label': 'Nuovi deceduti', 'file_name': 'nuovi_deceduti'},\n",
    "              'nuovi_dimessi_guariti': {'label': 'Nuovi dimessi guariti', 'file_name': 'nuovi_dimessi_guariti'}}\n",
    "\n",
    "# Create BarPlot object\n",
    "bp = BarPlot(df, 'data', graph_prop)"
   ]
  },
  {
   "cell_type": "code",
   "execution_count": null,
   "metadata": {},
   "outputs": [],
   "source": [
    "# New positives on new swabs in the last 60 days\n",
    "y_col = 'nuovi_positivi'\n",
    "fig = bp.draw_bar_plot(y_col=y_col)\n",
    "bp.save(fig=fig, y_col=y_col)"
   ]
  },
  {
   "cell_type": "code",
   "execution_count": null,
   "metadata": {},
   "outputs": [],
   "source": [
    "# New positives on new swabs in the last 60 days\n",
    "y_col = 'np_su_nt'\n",
    "fig = bp.draw_bar_plot(y_col=y_col)\n",
    "bp.save(fig=fig, y_col=y_col)"
   ]
  },
  {
   "cell_type": "code",
   "execution_count": null,
   "metadata": {},
   "outputs": [],
   "source": [
    "# New positives on new tested cases in the last 60 days\n",
    "y_col = 'np_su_nct'\n",
    "fig = bp.draw_bar_plot(y_col=y_col)\n",
    "bp.save(fig=fig, y_col=y_col)"
   ]
  },
  {
   "cell_type": "code",
   "execution_count": null,
   "metadata": {},
   "outputs": [],
   "source": [
    "# Percentage of variation of positives in the last 60 days\n",
    "y_col = 'totale_positivi'\n",
    "fig = bp.draw_bar_plot(y_col=y_col)\n",
    "bp.save(fig=fig, y_col=y_col)"
   ]
  },
  {
   "cell_type": "code",
   "execution_count": null,
   "metadata": {},
   "outputs": [],
   "source": [
    "# Percentage of variation of total positives in the last 60 days\n",
    "y_col = 'var_pos_perc'\n",
    "fig = bp.draw_bar_plot(y_col=y_col)\n",
    "bp.save(fig=fig, y_col=y_col)"
   ]
  },
  {
   "cell_type": "code",
   "execution_count": null,
   "metadata": {},
   "outputs": [],
   "source": [
    "# Positives in ICU in the last 60 days\n",
    "y_col = 'terapia_intensiva'\n",
    "fig = bp.draw_bar_plot(y_col=y_col)\n",
    "bp.save(fig=fig, y_col=y_col)"
   ]
  },
  {
   "cell_type": "code",
   "execution_count": null,
   "metadata": {},
   "outputs": [],
   "source": [
    "# Percentage of variation of positives in ICU in the last 60 days\n",
    "y_col = 'var_ti_perc'\n",
    "fig = bp.draw_bar_plot(y_col=y_col)\n",
    "bp.save(fig=fig, y_col=y_col)"
   ]
  },
  {
   "cell_type": "code",
   "execution_count": null,
   "metadata": {},
   "outputs": [],
   "source": [
    "# Positives in ICU in the last 60 days\n",
    "y_col = 'ti_su_to'\n",
    "fig = bp.draw_bar_plot(y_col=y_col)\n",
    "bp.save(fig=fig, y_col=y_col)"
   ]
  },
  {
   "cell_type": "code",
   "execution_count": null,
   "metadata": {},
   "outputs": [],
   "source": [
    "# Hospitalized positives in the last 60 days\n",
    "y_col = 'totale_ospedalizzati'\n",
    "fig = bp.draw_bar_plot(y_col=y_col)\n",
    "bp.save(fig=fig, y_col=y_col)"
   ]
  },
  {
   "cell_type": "code",
   "execution_count": null,
   "metadata": {},
   "outputs": [],
   "source": [
    "# Hospitalized positives in the last 60 days\n",
    "y_col = 'to_su_tp'\n",
    "fig = bp.draw_bar_plot(y_col=y_col)\n",
    "bp.save(fig=fig, y_col=y_col)"
   ]
  },
  {
   "cell_type": "code",
   "execution_count": null,
   "metadata": {},
   "outputs": [],
   "source": [
    "# New deads in the last 60 days\n",
    "y_col = 'nuovi_deceduti'\n",
    "fig = bp.draw_bar_plot(y_col=y_col)\n",
    "bp.save(fig=fig, y_col=y_col)"
   ]
  },
  {
   "cell_type": "code",
   "execution_count": null,
   "metadata": {},
   "outputs": [],
   "source": [
    "# New healed in the last 60 days\n",
    "y_col = 'nuovi_dimessi_guariti'\n",
    "fig = bp.draw_bar_plot(y_col=y_col, color='Greens')\n",
    "bp.save(fig=fig, y_col=y_col)"
   ]
  },
  {
   "cell_type": "code",
   "execution_count": null,
   "metadata": {},
   "outputs": [],
   "source": [
    "# TODO: define function\n",
    "days = 30\n",
    "path_img = '{path_img_root}/{days}gg'.format(path_img_root=path_img_root, days=days)\n",
    "date_threshold = Functions.get_prev_days_date(last_date, days).toordinal()\n",
    "date_threshold_str = datetime.datetime.fromordinal(date_threshold).isoformat()\n",
    "date_threshold_str\n",
    "df = df_raw[df_raw.data > date_threshold_str].reset_index(drop=True)\n",
    "df;"
   ]
  },
  {
   "cell_type": "code",
   "execution_count": null,
   "metadata": {},
   "outputs": [],
   "source": [
    "bp.df = df\n",
    "graph_prop['path_root'] = path_img\n",
    "bp.graph_prop = graph_prop"
   ]
  },
  {
   "cell_type": "code",
   "execution_count": null,
   "metadata": {},
   "outputs": [],
   "source": [
    "# New positives on new swabs in the last 30 days\n",
    "y_col = 'nuovi_positivi'\n",
    "fig = bp.draw_bar_plot(y_col=y_col)\n",
    "bp.save(fig=fig, y_col=y_col)"
   ]
  },
  {
   "cell_type": "code",
   "execution_count": null,
   "metadata": {},
   "outputs": [],
   "source": [
    "# New positives on new swabs in the last 30 days\n",
    "y_col = 'np_su_nt'\n",
    "fig = bp.draw_bar_plot(y_col=y_col)\n",
    "bp.save(fig=fig, y_col=y_col)"
   ]
  },
  {
   "cell_type": "code",
   "execution_count": null,
   "metadata": {},
   "outputs": [],
   "source": [
    "# New positives on new tested cases in the last 30 days\n",
    "y_col = 'np_su_nct'\n",
    "fig = bp.draw_bar_plot(y_col=y_col)\n",
    "bp.save(fig=fig, y_col=y_col)"
   ]
  },
  {
   "cell_type": "code",
   "execution_count": null,
   "metadata": {},
   "outputs": [],
   "source": [
    "# Number of positives in the last 30 days\n",
    "y_col = 'totale_positivi'\n",
    "fig = bp.draw_bar_plot(y_col=y_col)\n",
    "bp.save(fig=fig, y_col=y_col)"
   ]
  },
  {
   "cell_type": "code",
   "execution_count": null,
   "metadata": {},
   "outputs": [],
   "source": [
    "# Percentage of variation of positives in the last 30 days\n",
    "y_col = 'var_pos_perc'\n",
    "fig = bp.draw_bar_plot(y_col=y_col)\n",
    "bp.save(fig=fig, y_col=y_col)"
   ]
  },
  {
   "cell_type": "code",
   "execution_count": null,
   "metadata": {},
   "outputs": [],
   "source": [
    "# Positives in ICU in the last 30 days\n",
    "y_col = 'terapia_intensiva'\n",
    "fig = bp.draw_bar_plot(y_col=y_col)\n",
    "bp.save(fig=fig, y_col=y_col)"
   ]
  },
  {
   "cell_type": "code",
   "execution_count": null,
   "metadata": {},
   "outputs": [],
   "source": [
    "# Percentage of variation of positives in ICU in the last 30 days\n",
    "y_col = 'var_ti_perc'\n",
    "fig = bp.draw_bar_plot(y_col=y_col)\n",
    "bp.save(fig=fig, y_col=y_col)"
   ]
  },
  {
   "cell_type": "code",
   "execution_count": null,
   "metadata": {},
   "outputs": [],
   "source": [
    "# TODO\n",
    "y_col = 'ti_su_to'\n",
    "fig = bp.draw_bar_plot(y_col=y_col)\n",
    "bp.save(fig=fig, y_col=y_col)"
   ]
  },
  {
   "cell_type": "code",
   "execution_count": null,
   "metadata": {},
   "outputs": [],
   "source": [
    "# Hospitalized positives in the last 30 days\n",
    "y_col = 'totale_ospedalizzati'\n",
    "fig = bp.draw_bar_plot(y_col=y_col)\n",
    "bp.save(fig=fig, y_col=y_col)"
   ]
  },
  {
   "cell_type": "code",
   "execution_count": null,
   "metadata": {},
   "outputs": [],
   "source": [
    "# Hospitalized positives in the last 30 days\n",
    "y_col = 'to_su_tp'\n",
    "fig = bp.draw_bar_plot(y_col=y_col)\n",
    "bp.save(fig=fig, y_col=y_col)"
   ]
  },
  {
   "cell_type": "code",
   "execution_count": null,
   "metadata": {},
   "outputs": [],
   "source": [
    "# New deads in the last 30 days\n",
    "y_col = 'nuovi_deceduti'\n",
    "fig = bp.draw_bar_plot(y_col=y_col)\n",
    "bp.save(fig=fig, y_col=y_col)"
   ]
  },
  {
   "cell_type": "code",
   "execution_count": null,
   "metadata": {},
   "outputs": [],
   "source": [
    "# New healed in the last 30 days\n",
    "y_col = 'nuovi_dimessi_guariti'\n",
    "fig = bp.draw_bar_plot(y_col=y_col, color='Greens')\n",
    "bp.save(fig=fig, y_col=y_col)"
   ]
  },
  {
   "cell_type": "code",
   "execution_count": null,
   "metadata": {},
   "outputs": [],
   "source": [
    "# TODO: define function\n",
    "days = 7\n",
    "path_img = '{path_img_root}/0{days}gg'.format(path_img_root=path_img_root, days=days)\n",
    "date_threshold = Functions.get_prev_days_date(last_date, days).toordinal()\n",
    "date_threshold_str = datetime.datetime.fromordinal(date_threshold).isoformat()\n",
    "df = df_raw[df_raw.data > date_threshold_str].reset_index(drop=True)\n",
    "df;"
   ]
  },
  {
   "cell_type": "code",
   "execution_count": null,
   "metadata": {},
   "outputs": [],
   "source": [
    "bp.df = df\n",
    "graph_prop['path_root'] = path_img\n",
    "bp.graph_prop = graph_prop"
   ]
  },
  {
   "cell_type": "code",
   "execution_count": null,
   "metadata": {},
   "outputs": [],
   "source": [
    "# New positives on new swabs in the last 7 days\n",
    "y_col = 'nuovi_positivi'\n",
    "fig = bp.draw_bar_plot(y_col=y_col)\n",
    "bp.save(fig=fig, y_col=y_col)"
   ]
  },
  {
   "cell_type": "code",
   "execution_count": null,
   "metadata": {},
   "outputs": [],
   "source": [
    "# New positives on new swabs in the last 7 days\n",
    "y_col = 'np_su_nt'\n",
    "fig = bp.draw_bar_plot(y_col=y_col)\n",
    "bp.save(fig=fig, y_col=y_col)"
   ]
  },
  {
   "cell_type": "code",
   "execution_count": null,
   "metadata": {},
   "outputs": [],
   "source": [
    "# New positives on new tested cases in the last 7 days\n",
    "y_col = 'np_su_nct'\n",
    "fig = bp.draw_bar_plot(y_col=y_col)\n",
    "bp.save(fig=fig, y_col=y_col)"
   ]
  },
  {
   "cell_type": "code",
   "execution_count": null,
   "metadata": {},
   "outputs": [],
   "source": [
    "# Percentage of variation of positives in the last 7 days\n",
    "y_col = 'totale_positivi'\n",
    "fig = bp.draw_bar_plot(y_col=y_col)\n",
    "bp.save(fig=fig, y_col=y_col)"
   ]
  },
  {
   "cell_type": "code",
   "execution_count": null,
   "metadata": {},
   "outputs": [],
   "source": [
    "# Percentage of variation of positives in the last 7 days\n",
    "y_col = 'var_pos_perc'\n",
    "fig = bp.draw_bar_plot(y_col=y_col)\n",
    "bp.save(fig=fig, y_col=y_col)"
   ]
  },
  {
   "cell_type": "code",
   "execution_count": null,
   "metadata": {},
   "outputs": [],
   "source": [
    "# Positives in ICU in the last 7 days\n",
    "y_col = 'terapia_intensiva'\n",
    "fig = bp.draw_bar_plot(y_col=y_col)\n",
    "bp.save(fig=fig, y_col=y_col)"
   ]
  },
  {
   "cell_type": "code",
   "execution_count": null,
   "metadata": {},
   "outputs": [],
   "source": [
    "# Percentage of variation of positives in ICU in the last 30 days\n",
    "y_col = 'var_ti_perc'\n",
    "fig = bp.draw_bar_plot(y_col=y_col)\n",
    "bp.save(fig=fig, y_col=y_col)"
   ]
  },
  {
   "cell_type": "code",
   "execution_count": null,
   "metadata": {},
   "outputs": [],
   "source": [
    "# Positives in ICU in the last 7 days\n",
    "y_col = 'ti_su_to'\n",
    "fig = bp.draw_bar_plot(y_col=y_col)\n",
    "bp.save(fig=fig, y_col=y_col)"
   ]
  },
  {
   "cell_type": "code",
   "execution_count": null,
   "metadata": {},
   "outputs": [],
   "source": [
    "# Hospitalized positives in the last 7 days\n",
    "y_col = 'totale_ospedalizzati'\n",
    "fig = bp.draw_bar_plot(y_col=y_col)\n",
    "bp.save(fig=fig, y_col=y_col)"
   ]
  },
  {
   "cell_type": "code",
   "execution_count": null,
   "metadata": {},
   "outputs": [],
   "source": [
    "# Hospitalized positives in the last 7 days\n",
    "y_col = 'to_su_tp'\n",
    "fig = bp.draw_bar_plot(y_col=y_col)\n",
    "bp.save(fig=fig, y_col=y_col)"
   ]
  },
  {
   "cell_type": "code",
   "execution_count": null,
   "metadata": {},
   "outputs": [],
   "source": [
    "# New deads in the last 7 days\n",
    "y_col = 'nuovi_deceduti'\n",
    "fig = bp.draw_bar_plot(y_col=y_col)\n",
    "bp.save(fig=fig, y_col=y_col)"
   ]
  },
  {
   "cell_type": "code",
   "execution_count": null,
   "metadata": {},
   "outputs": [],
   "source": [
    "# New healed in the last 7 days\n",
    "y_col = 'nuovi_dimessi_guariti'\n",
    "fig = bp.draw_bar_plot(y_col=y_col, color='Greens')\n",
    "bp.save(fig=fig, y_col=y_col)"
   ]
  },
  {
   "cell_type": "code",
   "execution_count": null,
   "metadata": {},
   "outputs": [],
   "source": []
  }
 ],
 "metadata": {
  "kernelspec": {
   "display_name": "Python 3",
   "language": "python",
   "name": "python3"
  },
  "language_info": {
   "codemirror_mode": {
    "name": "ipython",
    "version": 3
   },
   "file_extension": ".py",
   "mimetype": "text/x-python",
   "name": "python",
   "nbconvert_exporter": "python",
   "pygments_lexer": "ipython3",
   "version": "3.8.5"
  }
 },
 "nbformat": 4,
 "nbformat_minor": 4
}
